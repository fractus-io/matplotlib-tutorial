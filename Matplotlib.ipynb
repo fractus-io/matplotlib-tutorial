{
 "cells": [
  {
   "cell_type": "markdown",
   "metadata": {},
   "source": [
    "# Table of Content\n",
    "\n",
    "[Matplotlib](#Matplotlib)\n",
    "\n",
    "* [Introduction](#Introduction)\n",
    "\n",
    "* [Plot Types](#PlotTypes)\n",
    "\n",
    "\t* [Line Plot](#LinePlot)\n",
    "    * [Scatter Plot](#ScatterPlot)\n",
    "    * [Histogram Plot](#LinePlot)\n",
    "    * [Box Plot](#LinePlot)\n",
    "    * [Bar Chart Plot](#BarChartPlot)\n",
    "    * [Pie Chart Plot](#BarChartPlot)\n",
    "\n",
    "* [Summary](#Summary) \n",
    "\n",
    "\n",
    "# Matplotlib\n",
    "\n",
    "The Matplotlib library can help you to present data as graphs.\n",
    "With Matplotlib anyone can make a simple interactive application without knowing anything about Matplotlib internals like draw buffers, event loops, or even about GUI toolkit is.\n",
    "\n",
    "The module can be installed using pip:\n",
    "\n",
    "```\n",
    "pip install matplotlib\n",
    "```\n",
    "\n",
    "Let's draw first simple plot. \n",
    "First we must import co-responding matplotlib interface(pyplot).    \n",
    "Next step is to import NumPy, while we will use NumPy to generate dataset(from 0 to 10, with 100 steps), \n",
    "and then we will draw our first graph:"
   ]
  },
  {
   "cell_type": "markdown",
   "metadata": {},
   "source": [
    "```\n",
    "import matplotlib.pyplot as plt\n",
    "import numpy as np\n",
    "\n",
    "x = np.linepace(0, 10, 100)\n",
    "\n",
    "plt.plot(x, x)\n",
    "plt.show()\n",
    "\n",
    "```\n",
    "\n",
    "Now if we save code in file first-plot.py and if we run a script:\n",
    "\n",
    "```\n",
    "python first-plot.py\n",
    "```\n",
    "\n",
    "our plot will be displayed.\n",
    "\n",
    "The way how Matplotlib will visualize plots depends on environment.\n",
    "If we are using Python script, then function ```plt.show()``` should be used.\n",
    "\n",
    "If we are using Jupyter notebook, then command ```%matplotlib``` should be used. This command will embed graphs directly in the notebook, with two possible options:\n",
    "\n",
    " * ```%matplotlib notebook``` will create interactive plots embedded within the notebook\n",
    " * ```%matplotlib inline``` will create static images of your plot embedded in the notebook\n",
    "\n",
    "After running following commands, plot in form of PNG image will be embedded in notebook:\n"
   ]
  },
  {
   "cell_type": "code",
   "execution_count": 36,
   "metadata": {},
   "outputs": [],
   "source": [
    "#%matplotlib notebook\n",
    "%matplotlib inline\n"
   ]
  },
  {
   "cell_type": "code",
   "execution_count": 37,
   "metadata": {},
   "outputs": [
    {
     "data": {
      "text/plain": [
       "[<matplotlib.lines.Line2D at 0x1cde11cb518>]"
      ]
     },
     "execution_count": 37,
     "metadata": {},
     "output_type": "execute_result"
    },
    {
     "data": {
      "image/png": "[encoded data removed]",
      "text/plain": [
       "<Figure size 432x288 with 1 Axes>"
      ]
     },
     "metadata": {
      "needs_background": "light"
     },
     "output_type": "display_data"
    }
   ],
   "source": [
    "import matplotlib.pyplot as plt\n",
    "import numpy as np\n",
    "\n",
    "x = np.linspace(0, 10, 100)\n",
    "\n",
    "plt.plot(x, x)\n"
   ]
  },
  {
   "cell_type": "markdown",
   "metadata": {},
   "source": [
    "\n",
    "## <a id=\"Introduction\"></a>Introduction\n",
    "\n",
    "Important part of data analysis is data visualization. Data can be visualized using various plot types like line plot, scatter plot, histogram, box plot, bar chart and pie chart etc.\n",
    "Pyhton offers many visualization packages and Matplotlib package is one which is used very often.\n",
    "\n",
    "John D. Hunter, a neurobiologist, began developing Matplotlib around 2003, originally inspired to emulate commands from Mathworks’ MATLAB software.\n",
    "Version 0.1 was released in 2003. This version received an early boost when it was adopted as the plotting package of choice of the \n",
    "Space Telescope Science Institute (the folks behind the Hubble Telescope), which financially supported Matplotlib’s development and greatly expanded its capabilities.\n",
    "Current release is 3.0.x,and library is used by many developers worldwide, very often as a one of the main data visualization tools within the data scientific Python world.\n",
    "\n",
    "Matplotlib is a multi-platform library which supports many operating systems and graphics backends. Matplotlib is built on top of the NumPy arrays.\n",
    " \n",
    "Before we jump into more complex examples, let's first check basic functions of the matplotlib.pyplot:\n",
    "\n",
    "```\n",
    "plt.title(“Title”)\n",
    "```\n",
    "will add a title “Title” to your plot\n",
    "\n",
    "```\n",
    " plt.xlabel(“X Label”) \n",
    "``` \n",
    "will add a label “X Label” to your x-axis\n",
    "\n",
    "``` \n",
    "plt.ylabel(“Y Label”)\n",
    "```\n",
    "will add a label “Y Label” to your y-axis\n",
    "\n",
    "```\n",
    "plt.xticks([1, 2, 3, 4, 5]) \n",
    "```\n",
    "will set the numbers on the x-axis to be 1, 2, 3, 4, 5. \n",
    "We can also pass and labels as a second argument. \n",
    "For, example, if we use this code \n",
    "\n",
    "```\n",
    "plt.xticks([1, 2, 3, 4, 5], [\"1M\", \"2M\", \"3M\", \"4M\", \"5M\"])\n",
    "```\n",
    "it will set the labels 1M, 2M, 3M, 4M, 5M on the x-axis\n",
    "\n",
    "```\n",
    "plt.yticks()\n",
    "```\n",
    "works the same as plt.xticks(), but for the y-axis\n",
    " \n",
    "```\n",
    "fig.savefig('plot.png')\n",
    "```\n",
    "will save plot in file in PNG formats\n",
    "\n",
    "```\n",
    "plt.plot(x, np.sin(x - 0), color='blue')        \n",
    "```\n",
    "will draw line(second line, sinusoid calculated with NumPy function) in specified color. Color can be specified as:   \n",
    " * short color code: ```color='g'```   \n",
    " * grayscale between 0 and 1: ```color='0.75'```       \n",
    " * hex code (RRGGBB from 00 to FF): ```color='#FFDD44'```    \n",
    " * RGB tuple: ```color='1.0,0.2,0.3'```   \n",
    " * HTML color ```color='chartreuse'```   \n",
    "\n",
    "```\n",
    "plt.plot(x, x + 1, linestyle='dashed')\n",
    "```\n",
    "will draw line with special line style. Linestyles are:   \n",
    " * solid: ```linestyle='-'``` or ```linestyle='solid'```     \n",
    " * dashed: ```linestyle='--'``` or ```linestyle='dashed'```   \n",
    " * dashdot: ```linestyle='-.'``` or ```linestyle='dashdot'```   \n",
    " * dotted: ```linestyle=':'``` or ```linestyle='dotted'```   \n"
   ]
  },
  {
   "cell_type": "markdown",
   "metadata": {},
   "source": [
    "\n",
    "## <a id=\"PlotTypes\"></a>Plot Types\n",
    "\n",
    "As we already mentioned data can be visualized using various plots, so let's dig deeper in plot types:\n",
    "\n",
    "### <a id=\"LinePlot\"></a>Line Plot\n",
    "\n",
    "\n",
    "Line Plot is a type of plot which displays information as a series of data points called ***markers*** connected with straight lines. \n",
    "Measurement points must be be ordered (typically x-axis values). Line plot is often used to visualize a trend in data over intervals of time, \n",
    "a time series data.\n",
    "\n",
    "To make a line plot with Matplotlib, we call function\n",
    "```\n",
    "plt.plot()\n",
    "```"
   ]
  },
  {
   "cell_type": "code",
   "execution_count": 38,
   "metadata": {},
   "outputs": [
    {
     "name": "stdout",
     "output_type": "stream",
     "text": [
      "[  0.           1.00502513   2.01005025   3.01507538   4.0201005\n",
      "   5.02512563   6.03015075   7.03517588   8.04020101   9.04522613\n",
      "  10.05025126  11.05527638  12.06030151  13.06532663  14.07035176\n",
      "  15.07537688  16.08040201  17.08542714  18.09045226  19.09547739\n",
      "  20.10050251  21.10552764  22.11055276  23.11557789  24.12060302\n",
      "  25.12562814  26.13065327  27.13567839  28.14070352  29.14572864\n",
      "  30.15075377  31.15577889  32.16080402  33.16582915  34.17085427\n",
      "  35.1758794   36.18090452  37.18592965  38.19095477  39.1959799\n",
      "  40.20100503  41.20603015  42.21105528  43.2160804   44.22110553\n",
      "  45.22613065  46.23115578  47.2361809   48.24120603  49.24623116\n",
      "  50.25125628  51.25628141  52.26130653  53.26633166  54.27135678\n",
      "  55.27638191  56.28140704  57.28643216  58.29145729  59.29648241\n",
      "  60.30150754  61.30653266  62.31155779  63.31658291  64.32160804\n",
      "  65.32663317  66.33165829  67.33668342  68.34170854  69.34673367\n",
      "  70.35175879  71.35678392  72.36180905  73.36683417  74.3718593\n",
      "  75.37688442  76.38190955  77.38693467  78.3919598   79.39698492\n",
      "  80.40201005  81.40703518  82.4120603   83.41708543  84.42211055\n",
      "  85.42713568  86.4321608   87.43718593  88.44221106  89.44723618\n",
      "  90.45226131  91.45728643  92.46231156  93.46733668  94.47236181\n",
      "  95.47738693  96.48241206  97.48743719  98.49246231  99.49748744\n",
      " 100.50251256 101.50753769 102.51256281 103.51758794 104.52261307\n",
      " 105.52763819 106.53266332 107.53768844 108.54271357 109.54773869\n",
      " 110.55276382 111.55778894 112.56281407 113.5678392  114.57286432\n",
      " 115.57788945 116.58291457 117.5879397  118.59296482 119.59798995\n",
      " 120.60301508 121.6080402  122.61306533 123.61809045 124.62311558\n",
      " 125.6281407  126.63316583 127.63819095 128.64321608 129.64824121\n",
      " 130.65326633 131.65829146 132.66331658 133.66834171 134.67336683\n",
      " 135.67839196 136.68341709 137.68844221 138.69346734 139.69849246\n",
      " 140.70351759 141.70854271 142.71356784 143.71859296 144.72361809\n",
      " 145.72864322 146.73366834 147.73869347 148.74371859 149.74874372\n",
      " 150.75376884 151.75879397 152.7638191  153.76884422 154.77386935\n",
      " 155.77889447 156.7839196  157.78894472 158.79396985 159.79899497\n",
      " 160.8040201  161.80904523 162.81407035 163.81909548 164.8241206\n",
      " 165.82914573 166.83417085 167.83919598 168.84422111 169.84924623\n",
      " 170.85427136 171.85929648 172.86432161 173.86934673 174.87437186\n",
      " 175.87939698 176.88442211 177.88944724 178.89447236 179.89949749\n",
      " 180.90452261 181.90954774 182.91457286 183.91959799 184.92462312\n",
      " 185.92964824 186.93467337 187.93969849 188.94472362 189.94974874\n",
      " 190.95477387 191.95979899 192.96482412 193.96984925 194.97487437\n",
      " 195.9798995  196.98492462 197.98994975 198.99497487 200.        ]\n"
     ]
    },
    {
     "data": {
      "image/png": "[encoded data removed]",
      "text/plain": [
       "<Figure size 432x288 with 1 Axes>"
      ]
     },
     "metadata": {
      "needs_background": "light"
     },
     "output_type": "display_data"
    }
   ],
   "source": [
    "y = np.linspace(0, 200, 200)\n",
    "\n",
    "plt.plot(y, y)\n",
    "print(y)"
   ]
  },
  {
   "cell_type": "markdown",
   "metadata": {},
   "source": [
    "The first argument is used for the data on the horizontal axis, and the second is used for the data on the vertical axis. \n",
    "\n",
    "\n",
    "If we want to add some additional customizations to our plot we should do it before we display it.    \n",
    "For example, we might want to add labels to the axis and title for the plot.\n",
    "Let's see more detailed example:"
   ]
  },
  {
   "cell_type": "code",
   "execution_count": 39,
   "metadata": {},
   "outputs": [
    {
     "data": {
      "text/plain": [
       "[<matplotlib.lines.Line2D at 0x1cde127f7b8>]"
      ]
     },
     "execution_count": 39,
     "metadata": {},
     "output_type": "execute_result"
    },
    {
     "data": {
      "image/png": "[encoded data removed]",
      "text/plain": [
       "<Figure size 432x288 with 1 Axes>"
      ]
     },
     "metadata": {
      "needs_background": "light"
     },
     "output_type": "display_data"
    }
   ],
   "source": [
    "x = np.linspace(1, 10, 100)\n",
    "y = np.cos(x)\n",
    "\n",
    "plt.xlabel(\"X\")\n",
    "plt.ylabel(\"Y\")\n",
    "plt.grid(True)\n",
    "plt.title(\"Title\")\n",
    "plt.plot(x, y,  color='r', linestyle='dashed')\n"
   ]
  },
  {
   "cell_type": "markdown",
   "metadata": {},
   "source": [
    "\n",
    "### <a id=\"ScatterPlot\"></a>Scatter Plot\n",
    "    \n",
    "\n",
    "Scatter plot is a type of the plot which shows all individual data points. Datapoints are not connected with lines. \n",
    "Each data point has the value of the x-axis value and the value from the y-axis values. \n",
    "This type of plot can be used to display trends or correlations. \n",
    "In data science, it shows how 2 variables compare.\n",
    "\n",
    "To make a scatter plot with Matplotlib, we can use the ```plt.scatter()``` function.\n",
    "Again, the first argument is used for the data on the horizontal axis, and the second - for the vertical axis.\n",
    "\n",
    "Let's see example where we plot relation between outside temperature and number of the visitors in museum:"
   ]
  },
  {
   "cell_type": "code",
   "execution_count": 40,
   "metadata": {},
   "outputs": [
    {
     "data": {
      "text/plain": [
       "Text(0.5,1,'Temperature vs Number of visitors')"
      ]
     },
     "execution_count": 40,
     "metadata": {},
     "output_type": "execute_result"
    },
    {
     "data": {
      "image/png": "[encoded data removed]",
      "text/plain": [
       "<Figure size 432x288 with 1 Axes>"
      ]
     },
     "metadata": {
      "needs_background": "light"
     },
     "output_type": "display_data"
    }
   ],
   "source": [
    "temperature = np.array([30, 32, 33, 28.5, 35, 29, 29])\n",
    "visitors = np.array([100, 115, 115, 75, 125, 79, 89])\n",
    "plt.scatter(temperature, visitors)\n",
    "plt.xlabel(\"Temperature\")\n",
    "plt.ylabel(\"Visitors\")\n",
    "plt.title(\"Temperature vs Number of visitors\")"
   ]
  },
  {
   "cell_type": "markdown",
   "metadata": {},
   "source": [
    "\n",
    "### <a id=\"HistogramPlot\"></a>Histogram Plot\n",
    "\n",
    "Histogram plot represents the distribution of numeric data accurately. \n",
    "To create a histogram, we divide the entire range of values into a series of intervals, and then, \n",
    "we count how many values fall into each interval. The intervals are also called bins. \n",
    "The bins are consecutive and non-overlapping intervals of a variable. They must be adjacent and are often of equal size.\n",
    "\n",
    "To make a histogram with Matplotlib, we can use the ```plt.hist()``` function. \n",
    "The first argument is the numeric data, the second argument is the number of bins. \n",
    "The default value for the bins argument is 10."
   ]
  },
  {
   "cell_type": "code",
   "execution_count": 41,
   "metadata": {},
   "outputs": [
    {
     "data": {
      "text/plain": [
       "Text(0.5,1,'Histogram')"
      ]
     },
     "execution_count": 41,
     "metadata": {},
     "output_type": "execute_result"
    },
    {
     "data": {
      "image/png": "[encoded data removed]",
      "text/plain": [
       "<Figure size 432x288 with 1 Axes>"
      ]
     },
     "metadata": {
      "needs_background": "light"
     },
     "output_type": "display_data"
    }
   ],
   "source": [
    "numbers = np.array([100, 115, 115, 75, 125, 79, 89])\n",
    "\n",
    "plt.hist(numbers, bins = 10)\n",
    "plt.xlabel(\"Number\")\n",
    "plt.ylabel(\"Frequency\")\n",
    "plt.title(\"Histogram\")"
   ]
  },
  {
   "cell_type": "markdown",
   "metadata": {},
   "source": [
    "\n",
    "We can see from the histogram above that there are:\n",
    "\n",
    " * 2 values between 70 and 80   \n",
    " * 1 values between 80 and 90   \n",
    " * 0 values between 90 and 100   \n",
    " * 1 value between 100 and 110   \n",
    " * 2 values between 110 and 120   \n",
    " * 1 value between 120 and 130   "
   ]
  },
  {
   "cell_type": "markdown",
   "metadata": {},
   "source": [
    "\n",
    "### <a id=\"BoxPlot\"></a>Box Plot\n",
    "\n",
    "Box plot, also called the box-and-whisker plot: a way to show the distribution of values based on the five-number summary: minimum, first quartile, median, third quartile, and maximum.\n",
    "\n",
    "The ***minimum*** and the ***maximum*** are just the min and max values from our data.\n",
    "\n",
    "The ***median*** is the value that separates the higher half of a data from the lower half. \n",
    "It’s calculated by the following steps: order your values, and find the middle one. \n",
    "In a case when our count of values is even, we actually have 2 middle numbers, so the median here is calculated by summing these 2 numbers \n",
    "and divide the sum by 2. For example, if we have the numbers 1, 2, 5, 6, 8, 9, your median will be (5 + 6) / 2 = 5,5.\n",
    "\n",
    "The **first quartile*** is the median of the data values to the left of the median in our ordered values. \n",
    "For example, if we have the numbers 1, 3, 4, 7, 8, 8, 9, the first quartile is the median from the 1, 3, 4 values, so it’s 3.\n",
    "\n",
    "The ***third quartile*** is the median of the data values to the right of the median in our ordered values. \n",
    "For example, if we use these numbers 1, 3, 4, 7, 8, 8, 9 again, the third quartile is the median from the 8, 8, 9 values, so it’s 8.\n",
    "\n",
    "Now, when we have some knowledge about the box plots, we can see that it’s super easy to create this plot with Matplotlib. \n",
    "All we need is the function ```plt.boxplot()```. The first argument is the data points.\n",
    "\n",
    "In this example the values 1, 2, and 21 are outliers, the maximum is 10, the minimum is 5 and the mean is 7."
   ]
  },
  {
   "cell_type": "code",
   "execution_count": 42,
   "metadata": {},
   "outputs": [
    {
     "data": {
      "image/png": "[encoded data removed]",
      "text/plain": [
       "<Figure size 432x288 with 1 Axes>"
      ]
     },
     "metadata": {
      "needs_background": "light"
     },
     "output_type": "display_data"
    }
   ],
   "source": [
    "values = [1, 2, 5, 6, 6, 7, 7, 8, 8, 8, 9, 10, 21]\n",
    "\n",
    "plt.boxplot(values)\n",
    "plt.yticks(range(1, 22))\n",
    "plt.ylabel(\"Value\")\n",
    "plt.show()"
   ]
  },
  {
   "cell_type": "markdown",
   "metadata": {},
   "source": [
    "\n",
    "### <a id=\"BarChartPlot\"></a>Bar Chart Plot\n",
    "\n",
    "Bar chart represents categorical data with rectangular bars. Each bar has a height corresponds to the value it represents. \n",
    "It’s useful when we want to compare a given numeric value on different categories. \n",
    "It can also be used with 2 data series.\n",
    "\n",
    "To make a bar chart with Maplotlib, we’ll need the ```plt.bar()``` function.\n",
    "\n",
    "From the example, we can see how the usage of the different programming languages compares. \n",
    "Note that some programmers can use many languages, so here the percentages are not summed up to 100%."
   ]
  },
  {
   "cell_type": "code",
   "execution_count": 43,
   "metadata": {},
   "outputs": [
    {
     "data": {
      "text/plain": [
       "Text(0.5,1,'Programming language usage')"
      ]
     },
     "execution_count": 43,
     "metadata": {},
     "output_type": "execute_result"
    },
    {
     "data": {
      "image/png": "[encoded data removed]",
      "text/plain": [
       "<Figure size 432x288 with 1 Axes>"
      ]
     },
     "metadata": {
      "needs_background": "light"
     },
     "output_type": "display_data"
    }
   ],
   "source": [
    "labels = [\"JavaScript\", \"Java\", \"Python\", \"C#\"]\n",
    "usage = [69.8, 45.3, 38.8, 34.4]\n",
    "\n",
    "positions = range(len(labels))\n",
    "\n",
    "plt.bar(positions, usage)\n",
    "plt.xticks(positions, labels)\n",
    "plt.ylabel(\"Usage (%)\")\n",
    "plt.title(\"Programming language usage\")"
   ]
  },
  {
   "cell_type": "markdown",
   "metadata": {},
   "source": [
    "We can have horizontal bars with differnt colors:"
   ]
  },
  {
   "cell_type": "code",
   "execution_count": 44,
   "metadata": {},
   "outputs": [
    {
     "data": {
      "text/plain": [
       "Text(0.5,1,'Programming language usage')"
      ]
     },
     "execution_count": 44,
     "metadata": {},
     "output_type": "execute_result"
    },
    {
     "data": {
      "image/png": "[encoded data removed]",
      "text/plain": [
       "<Figure size 432x288 with 1 Axes>"
      ]
     },
     "metadata": {
      "needs_background": "light"
     },
     "output_type": "display_data"
    }
   ],
   "source": [
    "plt.barh(positions, usage, color=['red', 'green', 'blue', 'cyan'])\n",
    "plt.yticks(positions, labels)\n",
    "plt.xlabel(\"Usage (%)\")\n",
    "plt.title(\"Programming language usage\")"
   ]
  },
  {
   "cell_type": "markdown",
   "metadata": {},
   "source": [
    "\n",
    "### <a id=\"PieChartPlot\"></a>Pie Chart Plot\n",
    "\n",
    "Pie chart: a circular plot, divided into slices to show numerical proportion. \n",
    "They are widely used in the business world. \n",
    "\n",
    "To make a bar chart with Matplotlib, we can use the ```plt.pie()``` function. \n",
    "The autopct parameter allows us to display the percentage value using the Python string formatting.\n",
    "\n",
    "Let's see and example:"
   ]
  },
  {
   "cell_type": "code",
   "execution_count": 45,
   "metadata": {},
   "outputs": [
    {
     "data": {
      "text/plain": [
       "([<matplotlib.patches.Wedge at 0x1cde1225cc0>,\n",
       "  <matplotlib.patches.Wedge at 0x1cde1206208>,\n",
       "  <matplotlib.patches.Wedge at 0x1cde1206748>,\n",
       "  <matplotlib.patches.Wedge at 0x1cde1206c50>],\n",
       " [Text(0.777817,0.777817,'Cats'),\n",
       "  Text(-0.646564,0.889919,'Dogs'),\n",
       "  Text(-0.49939,-0.980107,'Tigers'),\n",
       "  Text(1.04616,-0.339919,'Snakes')])"
      ]
     },
     "execution_count": 45,
     "metadata": {},
     "output_type": "execute_result"
    },
    {
     "data": {
      "image/png": "[encoded data removed]",
      "text/plain": [
       "<Figure size 432x288 with 1 Axes>"
      ]
     },
     "metadata": {},
     "output_type": "display_data"
    }
   ],
   "source": [
    "sizes = [25, 20, 45, 10]\n",
    "labels = [\"Cats\", \"Dogs\", \"Tigers\", \"Snakes\"]\n",
    "\n",
    "plt.pie(sizes, labels = labels)"
   ]
  },
  {
   "cell_type": "markdown",
   "metadata": {},
   "source": [
    "## <a id=\"Summary\"></a>Summary\n",
    "\n",
    "That was the basic introduction of the Matplotlib, you can find much more about the Matplotlib at [reference documentation](\n",
    "https://matplotlib.org/).\n",
    "    "
   ]
  }
 ],
 "metadata": {
  "kernelspec": {
   "display_name": "Python 3",
   "language": "python",
   "name": "python3"
  },
  "language_info": {
   "codemirror_mode": {
    "name": "ipython",
    "version": 3
   },
   "file_extension": ".py",
   "mimetype": "text/x-python",
   "name": "python",
   "nbconvert_exporter": "python",
   "pygments_lexer": "ipython3",
   "version": "3.7.0"
  }
 },
 "nbformat": 4,
 "nbformat_minor": 2
}
